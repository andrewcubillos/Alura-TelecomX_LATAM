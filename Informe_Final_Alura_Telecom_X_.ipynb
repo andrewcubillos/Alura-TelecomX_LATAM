{
  "nbformat": 4,
  "nbformat_minor": 0,
  "metadata": {
    "colab": {
      "provenance": []
    },
    "kernelspec": {
      "name": "python3",
      "display_name": "Python 3"
    },
    "language_info": {
      "name": "python"
    }
  },
  "cells": [
    {
      "cell_type": "markdown",
      "source": [
        "# INFORME FINAL"
      ],
      "metadata": {
        "id": "ylqz_Qed40Jp"
      }
    },
    {
      "cell_type": "markdown",
      "source": [
        "## 🔹 Introducción"
      ],
      "metadata": {
        "id": "slo6utmR426k"
      }
    },
    {
      "cell_type": "markdown",
      "source": [
        "La empresa Telecom X busca analizar la evasión de clientes mediante el proyecto “Churn de Clientes”, debido a que enfrenta una alta tasa de cancelaciones y requiere comprender los factores que provocan esta pérdida.\n",
        "\n",
        "Para el desarrollo del proyecto, se recopilarán, procesarán y analizarán los datos utilizando Python y sus principales bibliotecas, con el fin de extraer información valiosa. A partir de este análisis, el equipo de Data Science podrá avanzar en la construcción de modelos predictivos y diseñar estrategias orientadas a reducir la evasión de clientes."
      ],
      "metadata": {
        "id": "6Z_hmOYv5cL7"
      }
    },
    {
      "cell_type": "markdown",
      "source": [
        "## 🔹 Limpieza y Tratamiento de Datos:"
      ],
      "metadata": {
        "id": "2SLhv_viI111"
      }
    },
    {
      "cell_type": "markdown",
      "source": [
        "* Se normalizaron las columnas para facilitar la extracción de todos los atributos contenidos en ellas.\n",
        "\n",
        "* La columna `Churn` fue renombrada a `Retirado` para un mejor entendimiento.\n",
        "\n",
        "* Se revisaron columnas con duplicados y/o valores nulos; no se encontró ninguno.\n",
        "\n",
        "* Se verificó que cada columna tuviera el tipo de dato correcto.\n",
        "\n",
        "* Tras un análisis, se identificaron valores vacíos en la columna `Retirado`. Como representaban únicamente el 3% de la información, se decidió eliminarlos.\n",
        "\n",
        "<p align=\"center\">\n",
        "<img src=\"https://raw.githubusercontent.com/andrewcubillos/Alura-TelecomX_LATAM/refs/heads/main/images/porcentaje%20de%20vacios.png\" width=\"150\">\n",
        "<p>\n",
        "\n",
        "\n",
        "* Al analizar la correlación entre la columna `Charges.Total` y `Tenure`, se observó que los registros con valores vacíos en `Charges.Total` correspondían a clientes sin meses de contrato. Por ello, se reemplazaron los valores vacíos por: `0` y, posteriormente, se convirtió la columna Charges.Total al tipo float64.\n",
        "<p align=\"center\">\n",
        "<img src=\"https://raw.githubusercontent.com/andrewcubillos/Alura-TelecomX_LATAM/refs/heads/main/images/tenure%20y%20charges%20total%20vacios.png\" width=\"250\">\n",
        "<p>\n",
        "* Todas las columnas correspondientes a servicios fueron agrupadas para un análisis más cómodo.\n",
        "\n",
        "* Se estandarizaron valores categóricos, reemplazando \"Yes\" y \"No\" por 1 y 0, respectivamente.\n"
      ],
      "metadata": {
        "id": "0QoroULaJyDM"
      }
    },
    {
      "cell_type": "markdown",
      "source": [
        "## 🔹 Análisis Exploratorio de Datos"
      ],
      "metadata": {
        "id": "bWn62BLqWu3p"
      }
    },
    {
      "cell_type": "markdown",
      "source": [
        "Al analizar los datos nos encontramos con lo siguiente:\n",
        "<p align=\"center\">\n",
        "<img src=\"https://raw.githubusercontent.com/andrewcubillos/Alura-TelecomX_LATAM/refs/heads/main/images/Proporcion%20de%20clientes%20activos%20e%20inactivos.png\" width=\"350\">\n",
        "<p>\n",
        "Aproximadamente el 26.5% de los clientes, se retiraron.\n"
      ],
      "metadata": {
        "id": "Fy1Rm1DBXlMG"
      }
    },
    {
      "cell_type": "markdown",
      "source": [
        "La distribución por género es la siguiente:\n",
        "<p align=\"center\">\n",
        "<img src=\"https://raw.githubusercontent.com/andrewcubillos/Alura-TelecomX_LATAM/refs/heads/main/images/Porcentaje%20de%20Retiro%20por%20genero.png\" width=\"350\">\n",
        "<p>\n",
        "Se observa que la proporción de cancelación es mayor en el grupo femenino.\n"
      ],
      "metadata": {
        "id": "T68cPzmixhHu"
      }
    },
    {
      "cell_type": "markdown",
      "source": [
        "Por tipo de contrato:\n",
        "<p align=\"center\">\n",
        "<img src=\"https://raw.githubusercontent.com/andrewcubillos/Alura-TelecomX_LATAM/refs/heads/main/images/Clientes%20por%20tipo%20de%20Contrato.png\" width=\"400\">\n",
        "<p>\n",
        "Encontramos una proporcion importante de clientes retirados con contrato \"Mes a Mes\"\n",
        "\n",
        "Asi mismo, al analizar esa proporción por servicios de streaming\n",
        "<p align=\"center\">\n",
        "<img src=\"https://raw.githubusercontent.com/andrewcubillos/Alura-TelecomX_LATAM/refs/heads/main/images/Cantidad%20de%20Clientes%20por%20Servicio%20de%20Streaming%20Contrato%20Mes%20a%20Mes%20.png\" width=\"400\">\n",
        "<p>\n",
        "Se observa que los clientes retirados con contrato mes a mes consumían ligeramente más servicios de streaming en comparación con los clientes activos. Aunque la diferencia es pequeña, resulta relevante para el análisis y las recomendaciones posteriores.\n",
        "\n",
        "De igual manera se tiene la cantidad de clientes retirados en relacion con el \"Tenure\"(Meses de contrato)\n",
        "<p align=\"center\">\n",
        "<img src=\"https://raw.githubusercontent.com/andrewcubillos/Alura-TelecomX_LATAM/refs/heads/main/images/Cantidad%20de%20Clientes%20Retirados%20por%20Meses%20de%20Contrato.png\" width=\"400\">\n",
        "<p>\n",
        "\n",
        "La distribución es ligeramente sesgada a la derecha, por lo que hay mas clientes inactivos con pocos meses de contrato, sin embargo es importante denotar que es una correlación débil, por lo que esta informacion se debe usar con cuidado."
      ],
      "metadata": {
        "id": "y9iHHYJn0gQq"
      }
    },
    {
      "cell_type": "markdown",
      "source": [
        "Al examinar las columnas `Depedents` y\n",
        "<p align=\"center\">\n",
        "<img src=\"https://raw.githubusercontent.com/andrewcubillos/Alura-TelecomX_LATAM/refs/heads/main/images/Clientes%20inactivos%20con%20dependientes.png\" width=\"350\">\n",
        "<p>\n",
        "\n",
        "`Senior citizen`\n",
        "        \n",
        "\n",
        "\n",
        "<p align=\"center\">\n",
        "\n",
        "<img src=\"https://raw.githubusercontent.com/andrewcubillos/Alura-TelecomX_LATAM/refs/heads/main/images/Clientes%20menores%20o%20mayores%20a%2065%20a%C3%B1os.png\" width=\"350\">\n",
        "<p>\n",
        "\n",
        "\n",
        "Podemos observar que, dado que la mayoría de los clientes inactivos son menores de 65 años y no tienen dependientes, es probable que se trate principalmente de clientes jóvenes."
      ],
      "metadata": {
        "id": "Vz0OYSOEN02f"
      }
    },
    {
      "cell_type": "markdown",
      "source": [
        "Al analizar las variables numéricas, se obtienen hallazgos interesantes:   \n",
        "En particular, para la distribución de cargos mensuales de usuarios activos e inactivos, se observa que:\n",
        "<p align=\"center\">\n",
        "<img src=\"https://raw.githubusercontent.com/andrewcubillos/Alura-TelecomX_LATAM/refs/heads/main/images/Distribucion%20Cargos%20Mensuales%20Usuarios%20Activos-Inactivos.png\" width=\"450\">\n",
        "<p>\n",
        "El 50 % de los clientes activos presentan cargos mensuales inferiores a 64.425, mientras que el 50 % de los clientes inactivos tienen cargos de hasta 79.650.\n",
        "\n",
        "\n",
        "\n",
        "<p align=\"center\">\n",
        "<img src=\"https://raw.githubusercontent.com/andrewcubillos/Alura-TelecomX_LATAM/refs/heads/main/images/Distribucion%20Cuentas%20diarias%20Usuarios%20Activos%20-%20Inactivos.png\" width=\"450\">\n",
        "<p>\n",
        "De manera similar, en cuanto a las cuentas diarias, el 50 % de los clientes activos registra 2.15, mientras que el 50 % de los clientes inactivos alcanza 2.66.\"\n"
      ],
      "metadata": {
        "id": "DMwmZ2_5QPSK"
      }
    },
    {
      "cell_type": "markdown",
      "source": [
        "# Conclusiones e Insights:"
      ],
      "metadata": {
        "id": "eaeXTfPKU_Pr"
      }
    },
    {
      "cell_type": "markdown",
      "source": [
        "Tras haber concluido la recopilacion, procesamiento y analisis de los datos.\n",
        "Se destacan los siguientes hallazgos:\n",
        "- La proporción de cancelación es ligeramente mayor en mujeres, con un 26,9 %, frente al 26,2 % en hombres.\n",
        "\n",
        "- En total, el 26,5 % de los clientes se retiraron.\n",
        "\n",
        "- Los clientes que se retiraron presentan, en promedio, cargos mensuales más altos. Además, una proporción significativa tiene contratos “Mes a Mes”.\n",
        "- De igual manera se observa que gran parte de los clientes inactivos, son menores de 65 años y no tienen dependientes, lo que sugiere que se trata principalmente de clientes jóvenes.\n",
        "\n",
        "- También se observa que los clientes inactivos tienden a tener una menor cantidad de meses de contrato, lo que puede indicar una menor fidelidad o compromiso con el servicio.\n",
        "\n"
      ],
      "metadata": {
        "id": "ct7qm6-bVL6X"
      }
    },
    {
      "cell_type": "markdown",
      "source": [
        "#   Recomendaciones"
      ],
      "metadata": {
        "id": "KG80wpxMab6G"
      }
    },
    {
      "cell_type": "markdown",
      "source": [
        "Se recomienda realizar los siguientes ajustes, con el fin de aumentar las posibilidades de recuperar clientes y/o de fidelizar a los nuevos.\n",
        "\n",
        "1. Descuentos y bonificaciones\n",
        "\n",
        "  - Descuento en el cargo mensual por X meses (por ejemplo, 50% durante 3 meses).\n",
        "\n",
        "  - Meses gratis en el plan contratado.\n",
        "\n",
        "  - Rebaja de precio si firma un contrato de permanencia de 6 o 12 meses.\n",
        "\n",
        "\n",
        "2. Paquetes adicionales sin costo\n",
        "\n",
        "  - A partir del análisis de la preferencia por plataformas de streaming entre los clientes inactivos con contrato Mes a Mes, se sugiere ofrecer suscripciones incluidas a servicios de streaming específicamente para este segmento de clientes.\n",
        "\n",
        "\n",
        "3. Ofertas llamativas para el sector del público joven:\n",
        "\n",
        "   - Paquetes de datos ilimitados para redes sociales y streaming, puesto que los jóvenes tienden a valor mucho la conectividad constante.\n",
        "\n",
        "   - Aplicaciones exclusivas: apps de transporte, delivery, música o educación con beneficios\n",
        "\n",
        "   - Pruebas gratuitas de servicios premium: por ejemplo, un mes gratis de streaming, luego opción de suscripción.\n"
      ],
      "metadata": {
        "id": "kS2LiLthbMbu"
      }
    },
    {
      "cell_type": "markdown",
      "source": [
        "<p align=\"center\">\n"
      ],
      "metadata": {
        "id": "6bygvmyOP-ND"
      }
    }
  ]
}